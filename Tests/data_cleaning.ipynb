{
 "cells": [
  {
   "cell_type": "markdown",
   "metadata": {},
   "source": [
    "# HSN Code Data Cleaning\n",
    "\n",
    "This notebook cleans the HSN codes dataset by removing rows that contain the word 'other' (in any case) in the description column."
   ]
  },
  {
   "cell_type": "code",
   "execution_count": 1,
   "metadata": {},
   "outputs": [],
   "source": [
    "# Import required libraries\n",
    "import pandas as pd\n",
    "import numpy as np"
   ]
  },
  {
   "cell_type": "markdown",
   "metadata": {},
   "source": [
    "## 1. Load the Data"
   ]
  },
  {
   "cell_type": "code",
   "execution_count": 3,
   "metadata": {},
   "outputs": [
    {
     "name": "stdout",
     "output_type": "stream",
     "text": [
      "Dataset Shape: (21568, 2)\n",
      "\n",
      "Columns: ['\\nHSNCode', 'Description']\n",
      "\n",
      "First few rows:\n"
     ]
    },
    {
     "data": {
      "text/html": [
       "<div>\n",
       "<style scoped>\n",
       "    .dataframe tbody tr th:only-of-type {\n",
       "        vertical-align: middle;\n",
       "    }\n",
       "\n",
       "    .dataframe tbody tr th {\n",
       "        vertical-align: top;\n",
       "    }\n",
       "\n",
       "    .dataframe thead th {\n",
       "        text-align: right;\n",
       "    }\n",
       "</style>\n",
       "<table border=\"1\" class=\"dataframe\">\n",
       "  <thead>\n",
       "    <tr style=\"text-align: right;\">\n",
       "      <th></th>\n",
       "      <th>\\nHSNCode</th>\n",
       "      <th>Description</th>\n",
       "    </tr>\n",
       "  </thead>\n",
       "  <tbody>\n",
       "    <tr>\n",
       "      <th>0</th>\n",
       "      <td>01</td>\n",
       "      <td>LIVE ANIMALS</td>\n",
       "    </tr>\n",
       "    <tr>\n",
       "      <th>1</th>\n",
       "      <td>0101</td>\n",
       "      <td>LIVE HORSES, ASSES, MULES AND HINNIES.</td>\n",
       "    </tr>\n",
       "    <tr>\n",
       "      <th>2</th>\n",
       "      <td>01011010</td>\n",
       "      <td>LIVE HORSES, ASSES, MULES AND HINNIES PURE-BRE...</td>\n",
       "    </tr>\n",
       "    <tr>\n",
       "      <th>3</th>\n",
       "      <td>01011020</td>\n",
       "      <td>LIVE HORSES, ASSES, MULESANDHINNIES PURE-BRED ...</td>\n",
       "    </tr>\n",
       "    <tr>\n",
       "      <th>4</th>\n",
       "      <td>01011090</td>\n",
       "      <td>LIVE HORSES, ASSES, MULES AND HINNIES PURE-BRE...</td>\n",
       "    </tr>\n",
       "  </tbody>\n",
       "</table>\n",
       "</div>"
      ],
      "text/plain": [
       "  \\nHSNCode                                        Description\n",
       "0        01                                       LIVE ANIMALS\n",
       "1      0101             LIVE HORSES, ASSES, MULES AND HINNIES.\n",
       "2  01011010  LIVE HORSES, ASSES, MULES AND HINNIES PURE-BRE...\n",
       "3  01011020  LIVE HORSES, ASSES, MULESANDHINNIES PURE-BRED ...\n",
       "4  01011090  LIVE HORSES, ASSES, MULES AND HINNIES PURE-BRE..."
      ]
     },
     "execution_count": 3,
     "metadata": {},
     "output_type": "execute_result"
    }
   ],
   "source": [
    "# Read the CSV file\n",
    "df = pd.read_csv('HSN codes.csv')\n",
    "\n",
    "# Display basic information about the dataset\n",
    "print(\"Dataset Shape:\", df.shape)\n",
    "print(\"\\nColumns:\", df.columns.tolist())\n",
    "print(\"\\nFirst few rows:\")\n",
    "df.head()"
   ]
  },
  {
   "cell_type": "markdown",
   "metadata": {},
   "source": [
    "## 2. Data Cleaning"
   ]
  },
  {
   "cell_type": "code",
   "execution_count": 4,
   "metadata": {},
   "outputs": [
    {
     "name": "stdout",
     "output_type": "stream",
     "text": [
      "Number of rows before cleaning: 21568\n",
      "Number of rows after cleaning: 14071\n",
      "\n",
      "Number of rows removed: 7497\n"
     ]
    }
   ],
   "source": [
    "# Count rows before cleaning\n",
    "print(\"Number of rows before cleaning:\", len(df))\n",
    "\n",
    "# Remove rows containing 'other' in description (case-insensitive)\n",
    "df_cleaned = df[~df['Description'].str.contains('other', case=False, na=False)]\n",
    "\n",
    "# Count rows after cleaning\n",
    "print(\"Number of rows after cleaning:\", len(df_cleaned))\n",
    "print(\"\\nNumber of rows removed:\", len(df) - len(df_cleaned))"
   ]
  },
  {
   "cell_type": "markdown",
   "metadata": {},
   "source": [
    "## 3. Verify the Cleaning"
   ]
  },
  {
   "cell_type": "code",
   "execution_count": 5,
   "metadata": {},
   "outputs": [
    {
     "name": "stdout",
     "output_type": "stream",
     "text": [
      "Number of rows still containing 'other': 0\n",
      "\n",
      "Sample of cleaned data:\n"
     ]
    },
    {
     "data": {
      "text/html": [
       "<div>\n",
       "<style scoped>\n",
       "    .dataframe tbody tr th:only-of-type {\n",
       "        vertical-align: middle;\n",
       "    }\n",
       "\n",
       "    .dataframe tbody tr th {\n",
       "        vertical-align: top;\n",
       "    }\n",
       "\n",
       "    .dataframe thead th {\n",
       "        text-align: right;\n",
       "    }\n",
       "</style>\n",
       "<table border=\"1\" class=\"dataframe\">\n",
       "  <thead>\n",
       "    <tr style=\"text-align: right;\">\n",
       "      <th></th>\n",
       "      <th>\\nHSNCode</th>\n",
       "      <th>Description</th>\n",
       "    </tr>\n",
       "  </thead>\n",
       "  <tbody>\n",
       "    <tr>\n",
       "      <th>0</th>\n",
       "      <td>01</td>\n",
       "      <td>LIVE ANIMALS</td>\n",
       "    </tr>\n",
       "    <tr>\n",
       "      <th>1</th>\n",
       "      <td>0101</td>\n",
       "      <td>LIVE HORSES, ASSES, MULES AND HINNIES.</td>\n",
       "    </tr>\n",
       "    <tr>\n",
       "      <th>2</th>\n",
       "      <td>01011010</td>\n",
       "      <td>LIVE HORSES, ASSES, MULES AND HINNIES PURE-BRE...</td>\n",
       "    </tr>\n",
       "    <tr>\n",
       "      <th>3</th>\n",
       "      <td>01011020</td>\n",
       "      <td>LIVE HORSES, ASSES, MULESANDHINNIES PURE-BRED ...</td>\n",
       "    </tr>\n",
       "    <tr>\n",
       "      <th>5</th>\n",
       "      <td>010121</td>\n",
       "      <td>PURE-BRED BREEDING ANIMALS</td>\n",
       "    </tr>\n",
       "  </tbody>\n",
       "</table>\n",
       "</div>"
      ],
      "text/plain": [
       "  \\nHSNCode                                        Description\n",
       "0        01                                       LIVE ANIMALS\n",
       "1      0101             LIVE HORSES, ASSES, MULES AND HINNIES.\n",
       "2  01011010  LIVE HORSES, ASSES, MULES AND HINNIES PURE-BRE...\n",
       "3  01011020  LIVE HORSES, ASSES, MULESANDHINNIES PURE-BRED ...\n",
       "5    010121                         PURE-BRED BREEDING ANIMALS"
      ]
     },
     "execution_count": 5,
     "metadata": {},
     "output_type": "execute_result"
    }
   ],
   "source": [
    "# Check if any rows still contain 'other'\n",
    "remaining_other = df_cleaned[df_cleaned['Description'].str.contains('other', case=False, na=False)]\n",
    "print(\"Number of rows still containing 'other':\", len(remaining_other))\n",
    "\n",
    "# Display sample of cleaned data\n",
    "print(\"\\nSample of cleaned data:\")\n",
    "df_cleaned.head()"
   ]
  },
  {
   "cell_type": "markdown",
   "metadata": {},
   "source": [
    "## 4. Save Cleaned Data"
   ]
  },
  {
   "cell_type": "code",
   "execution_count": 6,
   "metadata": {},
   "outputs": [
    {
     "name": "stdout",
     "output_type": "stream",
     "text": [
      "Cleaned data saved to 'HSN_codes_cleaned.csv'\n"
     ]
    }
   ],
   "source": [
    "# Save the cleaned dataset\n",
    "df_cleaned.to_csv('HSN_codes_cleaned.csv', index=False)\n",
    "print(\"Cleaned data saved to 'HSN_codes_cleaned.csv'\")"
   ]
  }
 ],
 "metadata": {
  "kernelspec": {
   "display_name": "venv",
   "language": "python",
   "name": "python3"
  },
  "language_info": {
   "codemirror_mode": {
    "name": "ipython",
    "version": 3
   },
   "file_extension": ".py",
   "mimetype": "text/x-python",
   "name": "python",
   "nbconvert_exporter": "python",
   "pygments_lexer": "ipython3",
   "version": "3.12.4"
  }
 },
 "nbformat": 4,
 "nbformat_minor": 4
}
